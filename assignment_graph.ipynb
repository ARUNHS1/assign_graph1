{
 "cells": [
  {
   "cell_type": "markdown",
   "metadata": {},
   "source": [
    "\n",
    "- Breadth First Traversal for a Graph\n",
    "- Depth First Traversal for a Graph\n",
    "- Count the number of nodes at given level in a tree using BFS\n",
    "- Count number of trees in a forest\n",
    "- Detect Cycle in a Directed Graph\n",
    "\n",
    "\n",
    "- Implement n-Queen’s Problem"
   ]
  },
  {
   "cell_type": "code",
   "execution_count": 1,
   "metadata": {},
   "outputs": [],
   "source": [
    "from collections import defaultdict, deque\n",
    "\n",
    "class Graph:\n",
    "    def __init__(self):\n",
    "        self.graph = defaultdict(list)\n",
    "\n",
    "    def add_edge(self, u, v):\n",
    "        self.graph[u].append(v)\n",
    "\n",
    "    def bfs(self, start):\n",
    "        visited = [False] * len(self.graph)\n",
    "        queue = deque([start])\n",
    "        visited[start] = True\n",
    "\n",
    "        while queue:\n",
    "            vertex = queue.popleft()\n",
    "            print(vertex, end=' ')\n",
    "\n",
    "            for neighbor in self.graph[vertex]:\n",
    "                if not visited[neighbor]:\n",
    "                    queue.append(neighbor)\n",
    "                    visited[neighbor] = True\n"
   ]
  },
  {
   "cell_type": "code",
   "execution_count": 2,
   "metadata": {},
   "outputs": [],
   "source": [
    "class Graph:\n",
    "    def __init__(self):\n",
    "        self.graph = defaultdict(list)\n",
    "\n",
    "    def add_edge(self, u, v):\n",
    "        self.graph[u].append(v)\n",
    "\n",
    "    def dfs_util(self, v, visited):\n",
    "        visited[v] = True\n",
    "        print(v, end=' ')\n",
    "\n",
    "        for neighbor in self.graph[v]:\n",
    "            if not visited[neighbor]:\n",
    "                self.dfs_util(neighbor, visited)\n",
    "\n",
    "    def dfs(self, start):\n",
    "        visited = [False] * len(self.graph)\n",
    "        self.dfs_util(start, visited)\n"
   ]
  },
  {
   "cell_type": "code",
   "execution_count": 4,
   "metadata": {},
   "outputs": [],
   "source": [
    "from collections import defaultdict, deque\n",
    "\n",
    "class Tree:\n",
    "    def __init__(self):\n",
    "        self.graph = defaultdict(list)\n",
    "\n",
    "    def add_edge(self, u, v):\n",
    "        self.graph[u].append(v)\n",
    "        self.graph[v].append(u)  # For undirected trees\n",
    "\n",
    "    def nodes_at_level(self, start, level):\n",
    "        visited = [False] * (len(self.graph) + 1)\n",
    "        queue = deque([(start, 0)])\n",
    "        visited[start] = True\n",
    "        count = 0\n",
    "\n",
    "        while queue:\n",
    "            node, depth = queue.popleft()\n",
    "\n",
    "            if depth == level:\n",
    "                count += 1\n",
    "\n",
    "            if depth > level:\n",
    "                break\n",
    "\n",
    "            for neighbor in self.graph[node]:\n",
    "                if not visited[neighbor]:\n",
    "                    queue.append((neighbor, depth + 1))\n",
    "                    visited[neighbor] = True\n",
    "\n",
    "        return count\n"
   ]
  },
  {
   "cell_type": "code",
   "execution_count": 5,
   "metadata": {},
   "outputs": [],
   "source": [
    "from collections import defaultdict\n",
    "\n",
    "class Forest:\n",
    "    def __init__(self):\n",
    "        self.graph = defaultdict(list)\n",
    "\n",
    "    def add_edge(self, u, v):\n",
    "        self.graph[u].append(v)\n",
    "        self.graph[v].append(u)  # For undirected graphs\n",
    "\n",
    "    def count_trees(self):\n",
    "        visited = [False] * (len(self.graph) + 1)\n",
    "        count = 0\n",
    "\n",
    "        def dfs(node):\n",
    "            visited[node] = True\n",
    "            for neighbor in self.graph[node]:\n",
    "                if not visited[neighbor]:\n",
    "                    dfs(neighbor)\n",
    "\n",
    "        for node in self.graph:\n",
    "            if not visited[node]:\n",
    "                dfs(node)\n",
    "                count += 1\n",
    "\n",
    "        return count\n"
   ]
  },
  {
   "cell_type": "code",
   "execution_count": 3,
   "metadata": {},
   "outputs": [],
   "source": [
    "class Graph:\n",
    "    def __init__(self):\n",
    "        self.graph = defaultdict(list)\n",
    "\n",
    "    def add_edge(self, u, v):\n",
    "        self.graph[u].append(v)\n",
    "\n",
    "    def is_cyclic_util(self, v, visited, stack):\n",
    "        visited[v] = True\n",
    "        stack[v] = True\n",
    "\n",
    "        for neighbor in self.graph[v]:\n",
    "            if not visited[neighbor]:\n",
    "                if self.is_cyclic_util(neighbor, visited, stack):\n",
    "                    return True\n",
    "            elif stack[neighbor]:\n",
    "                return True\n",
    "\n",
    "        stack[v] = False\n",
    "        return False\n",
    "\n",
    "    def is_cyclic(self):\n",
    "        visited = [False] * len(self.graph)\n",
    "        stack = [False] * len(self.graph)\n",
    "\n",
    "        for node in range(len(self.graph)):\n",
    "            if not visited[node]:\n",
    "                if self.is_cyclic_util(node, visited, stack):\n",
    "                    return True\n",
    "        return False\n"
   ]
  },
  {
   "cell_type": "code",
   "execution_count": 6,
   "metadata": {},
   "outputs": [
    {
     "name": "stdout",
     "output_type": "stream",
     "text": [
      "4\n"
     ]
    }
   ],
   "source": [
    "x =4\n",
    "print(x)"
   ]
  },
  {
   "cell_type": "code",
   "execution_count": null,
   "metadata": {},
   "outputs": [],
   "source": []
  }
 ],
 "metadata": {
  "kernelspec": {
   "display_name": "Python 3",
   "language": "python",
   "name": "python3"
  },
  "language_info": {
   "codemirror_mode": {
    "name": "ipython",
    "version": 3
   },
   "file_extension": ".py",
   "mimetype": "text/x-python",
   "name": "python",
   "nbconvert_exporter": "python",
   "pygments_lexer": "ipython3",
   "version": "3.12.0"
  }
 },
 "nbformat": 4,
 "nbformat_minor": 2
}
